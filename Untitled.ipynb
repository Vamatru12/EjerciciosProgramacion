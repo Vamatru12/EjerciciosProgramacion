{
 "cells": [
  {
   "cell_type": "markdown",
   "id": "219e5509",
   "metadata": {},
   "source": [
    "### algoritmos \n"
   ]
  },
  {
   "cell_type": "code",
   "execution_count": 1,
   "id": "b09e4016",
   "metadata": {},
   "outputs": [
    {
     "name": "stdout",
     "output_type": "stream",
     "text": [
      "The Zen of Python, by Tim Peters\n",
      "\n",
      "Beautiful is better than ugly.\n",
      "Explicit is better than implicit.\n",
      "Simple is better than complex.\n",
      "Complex is better than complicated.\n",
      "Flat is better than nested.\n",
      "Sparse is better than dense.\n",
      "Readability counts.\n",
      "Special cases aren't special enough to break the rules.\n",
      "Although practicality beats purity.\n",
      "Errors should never pass silently.\n",
      "Unless explicitly silenced.\n",
      "In the face of ambiguity, refuse the temptation to guess.\n",
      "There should be one-- and preferably only one --obvious way to do it.\n",
      "Although that way may not be obvious at first unless you're Dutch.\n",
      "Now is better than never.\n",
      "Although never is often better than *right* now.\n",
      "If the implementation is hard to explain, it's a bad idea.\n",
      "If the implementation is easy to explain, it may be a good idea.\n",
      "Namespaces are one honking great idea -- let's do more of those!\n"
     ]
    }
   ],
   "source": [
    "import this"
   ]
  },
  {
   "cell_type": "markdown",
   "id": "ab1d314e",
   "metadata": {},
   "source": [
    "### variables y funciones basicas\n",
    "Empezaremos hablando de algunas instrucciones elementales de Python, crearemos nuestros primeros programas, también llamdos scripts que posteriormente serán interpretados. Mencionaremos algunos tipos elementales de datos y los guardaremos en un espacio de memoría mediante variables para transformarlos y generar nueva información."
   ]
  },
  {
   "cell_type": "markdown",
   "id": "51b9e412",
   "metadata": {},
   "source": [
    " veamos algunos tipos de datos e interactuamos"
   ]
  },
  {
   "cell_type": "code",
   "execution_count": 4,
   "id": "a8ebdac4",
   "metadata": {},
   "outputs": [
    {
     "data": {
      "text/plain": [
       "8"
      ]
     },
     "execution_count": 4,
     "metadata": {},
     "output_type": "execute_result"
    }
   ],
   "source": [
    "## Numeros Enteros\n",
    "\n",
    "8"
   ]
  },
  {
   "cell_type": "code",
   "execution_count": 5,
   "id": "86d5b17c",
   "metadata": {},
   "outputs": [
    {
     "data": {
      "text/plain": [
       "int"
      ]
     },
     "execution_count": 5,
     "metadata": {},
     "output_type": "execute_result"
    }
   ],
   "source": [
    "type(8)"
   ]
  },
  {
   "cell_type": "code",
   "execution_count": 6,
   "id": "e535113e",
   "metadata": {},
   "outputs": [
    {
     "data": {
      "text/plain": [
       "3.5"
      ]
     },
     "execution_count": 6,
     "metadata": {},
     "output_type": "execute_result"
    }
   ],
   "source": [
    "## decimales \n",
    "\n",
    "3.5"
   ]
  },
  {
   "cell_type": "code",
   "execution_count": 7,
   "id": "80ce5008",
   "metadata": {},
   "outputs": [
    {
     "data": {
      "text/plain": [
       "float"
      ]
     },
     "execution_count": 7,
     "metadata": {},
     "output_type": "execute_result"
    }
   ],
   "source": [
    "type(3.5)"
   ]
  },
  {
   "cell_type": "code",
   "execution_count": 8,
   "id": "a28bb6e3",
   "metadata": {},
   "outputs": [
    {
     "data": {
      "text/plain": [
       "float"
      ]
     },
     "execution_count": 8,
     "metadata": {},
     "output_type": "execute_result"
    }
   ],
   "source": [
    "## recuerde que los negativos existen \n",
    "type (-2.5)"
   ]
  },
  {
   "cell_type": "code",
   "execution_count": 9,
   "id": "a33a8c74",
   "metadata": {},
   "outputs": [
    {
     "data": {
      "text/plain": [
       "int"
      ]
     },
     "execution_count": 9,
     "metadata": {},
     "output_type": "execute_result"
    }
   ],
   "source": [
    "type (-15)"
   ]
  },
  {
   "cell_type": "markdown",
   "id": "949a3c6e",
   "metadata": {},
   "source": [
    "los numeros interactuan con nosotros de diferentes maneras, pero es atraves de operaciones :"
   ]
  },
  {
   "cell_type": "code",
   "execution_count": 10,
   "id": "8ba725a2",
   "metadata": {},
   "outputs": [
    {
     "data": {
      "text/plain": [
       "5"
      ]
     },
     "execution_count": 10,
     "metadata": {},
     "output_type": "execute_result"
    }
   ],
   "source": [
    "## suma \n",
    "3+2"
   ]
  },
  {
   "cell_type": "code",
   "execution_count": 11,
   "id": "05878604",
   "metadata": {},
   "outputs": [
    {
     "data": {
      "text/plain": [
       "7.2"
      ]
     },
     "execution_count": 11,
     "metadata": {},
     "output_type": "execute_result"
    }
   ],
   "source": [
    "3.2+4"
   ]
  },
  {
   "cell_type": "code",
   "execution_count": 12,
   "id": "5d5b9106",
   "metadata": {},
   "outputs": [
    {
     "data": {
      "text/plain": [
       "float"
      ]
     },
     "execution_count": 12,
     "metadata": {},
     "output_type": "execute_result"
    }
   ],
   "source": [
    "type (3.2+4)"
   ]
  },
  {
   "cell_type": "code",
   "execution_count": 13,
   "id": "299c104e",
   "metadata": {},
   "outputs": [
    {
     "data": {
      "text/plain": [
       "-1"
      ]
     },
     "execution_count": 13,
     "metadata": {},
     "output_type": "execute_result"
    }
   ],
   "source": [
    "## resta\n",
    "1-2"
   ]
  },
  {
   "cell_type": "code",
   "execution_count": 15,
   "id": "1badee8c",
   "metadata": {},
   "outputs": [
    {
     "data": {
      "text/plain": [
       "20"
      ]
     },
     "execution_count": 15,
     "metadata": {},
     "output_type": "execute_result"
    }
   ],
   "source": [
    "# multiplicacion \n",
    "4*5"
   ]
  },
  {
   "cell_type": "code",
   "execution_count": 16,
   "id": "f2672c86",
   "metadata": {},
   "outputs": [
    {
     "data": {
      "text/plain": [
       "2.0"
      ]
     },
     "execution_count": 16,
     "metadata": {},
     "output_type": "execute_result"
    }
   ],
   "source": [
    "# divison \n",
    "6/3"
   ]
  },
  {
   "cell_type": "code",
   "execution_count": 17,
   "id": "05a611ac",
   "metadata": {},
   "outputs": [
    {
     "data": {
      "text/plain": [
       "0.5"
      ]
     },
     "execution_count": 17,
     "metadata": {},
     "output_type": "execute_result"
    }
   ],
   "source": [
    "1/2"
   ]
  },
  {
   "cell_type": "code",
   "execution_count": 18,
   "id": "7b68979a",
   "metadata": {
    "scrolled": true
   },
   "outputs": [
    {
     "ename": "ZeroDivisionError",
     "evalue": "division by zero",
     "output_type": "error",
     "traceback": [
      "\u001b[1;31m---------------------------------------------------------------------------\u001b[0m",
      "\u001b[1;31mZeroDivisionError\u001b[0m                         Traceback (most recent call last)",
      "\u001b[1;32mC:\\Users\\SALACO~1\\AppData\\Local\\Temp/ipykernel_5188/1580332654.py\u001b[0m in \u001b[0;36m<module>\u001b[1;34m\u001b[0m\n\u001b[1;32m----> 1\u001b[1;33m \u001b[1;36m4\u001b[0m\u001b[1;33m/\u001b[0m\u001b[1;36m0\u001b[0m\u001b[1;33m\u001b[0m\u001b[1;33m\u001b[0m\u001b[0m\n\u001b[0m",
      "\u001b[1;31mZeroDivisionError\u001b[0m: division by zero"
     ]
    }
   ],
   "source": [
    "4/0"
   ]
  },
  {
   "cell_type": "code",
   "execution_count": 20,
   "id": "6d3bd59c",
   "metadata": {},
   "outputs": [
    {
     "name": "stdout",
     "output_type": "stream",
     "text": [
      "9\n",
      "1\n",
      "20\n",
      "0.5\n",
      "2.0\n"
     ]
    }
   ],
   "source": [
    "print (4+5)\n",
    "print (3-2)\n",
    "print (4*5)\n",
    "print (1/2)\n",
    "print (4/2) "
   ]
  },
  {
   "cell_type": "code",
   "execution_count": 21,
   "id": "854c8a3e",
   "metadata": {},
   "outputs": [
    {
     "data": {
      "text/plain": [
       "8"
      ]
     },
     "execution_count": 21,
     "metadata": {},
     "output_type": "execute_result"
    }
   ],
   "source": [
    "# potencia \n",
    "2**3"
   ]
  },
  {
   "cell_type": "code",
   "execution_count": 22,
   "id": "3f0d08e6",
   "metadata": {},
   "outputs": [
    {
     "data": {
      "text/plain": [
       "5.0"
      ]
     },
     "execution_count": 22,
     "metadata": {},
     "output_type": "execute_result"
    }
   ],
   "source": [
    "# raices (potencia de fracciones)\n",
    "25**(1/2)"
   ]
  },
  {
   "cell_type": "code",
   "execution_count": 23,
   "id": "d646fb63",
   "metadata": {},
   "outputs": [
    {
     "data": {
      "text/plain": [
       "6"
      ]
     },
     "execution_count": 23,
     "metadata": {},
     "output_type": "execute_result"
    }
   ],
   "source": [
    "## division entera (cocinete)\n",
    "20//3"
   ]
  },
  {
   "cell_type": "code",
   "execution_count": 24,
   "id": "c7604fad",
   "metadata": {},
   "outputs": [
    {
     "data": {
      "text/plain": [
       "2"
      ]
     },
     "execution_count": 24,
     "metadata": {},
     "output_type": "execute_result"
    }
   ],
   "source": [
    "## division enterea (residuo)\n",
    "20%3 "
   ]
  },
  {
   "cell_type": "code",
   "execution_count": 25,
   "id": "db876028",
   "metadata": {},
   "outputs": [
    {
     "data": {
      "text/plain": [
       "30.0"
      ]
     },
     "execution_count": 25,
     "metadata": {},
     "output_type": "execute_result"
    }
   ],
   "source": [
    "## aqui culculamos el el 15 % de 200. cuidadp con el operador residuo(%)\n",
    "0.15*200"
   ]
  },
  {
   "cell_type": "code",
   "execution_count": 26,
   "id": "1809ca6f",
   "metadata": {},
   "outputs": [
    {
     "data": {
      "text/plain": [
       "36.0"
      ]
     },
     "execution_count": 26,
     "metadata": {},
     "output_type": "execute_result"
    }
   ],
   "source": [
    "0.45*80,## aqui sacamos el porcentaje de 45% de 80"
   ]
  },
  {
   "cell_type": "markdown",
   "id": "d3ff1e3e",
   "metadata": {},
   "source": [
    "### cadenas de caracteres o strings\n",
    "\n",
    "corresponde a las cadenas de texto para evitar confucion con las diferentes funciones y/o varables de pyton se almacena entre comillas dobles o simples:"
   ]
  },
  {
   "cell_type": "code",
   "execution_count": 27,
   "id": "4f9fafe2",
   "metadata": {},
   "outputs": [
    {
     "data": {
      "text/plain": [
       "'hola externandistas'"
      ]
     },
     "execution_count": 27,
     "metadata": {},
     "output_type": "execute_result"
    }
   ],
   "source": [
    "\"hola externandistas\""
   ]
  },
  {
   "cell_type": "code",
   "execution_count": 28,
   "id": "f550cbd2",
   "metadata": {},
   "outputs": [
    {
     "name": "stdout",
     "output_type": "stream",
     "text": [
      "hola externandistas\n"
     ]
    }
   ],
   "source": [
    "print('hola externandistas')"
   ]
  },
  {
   "cell_type": "code",
   "execution_count": 29,
   "id": "b01508b3",
   "metadata": {},
   "outputs": [
    {
     "data": {
      "text/plain": [
       "'hola----externado'"
      ]
     },
     "execution_count": 29,
     "metadata": {},
     "output_type": "execute_result"
    }
   ],
   "source": [
    "#operaciones entre txtos (suma-concentacion)\n",
    "\"hola\"+\"----\"+\"externado\""
   ]
  },
  {
   "cell_type": "code",
   "execution_count": 33,
   "id": "4ea623ca",
   "metadata": {},
   "outputs": [
    {
     "data": {
      "text/plain": [
       "str"
      ]
     },
     "execution_count": 33,
     "metadata": {},
     "output_type": "execute_result"
    }
   ],
   "source": [
    "type ('hola externadistas')"
   ]
  },
  {
   "cell_type": "markdown",
   "id": "013e8f74",
   "metadata": {},
   "source": [
    "## variables \n",
    "sirven ara guardar informacion en pyton,rabajan de la siguiente manera \n",
    "[nombree de variable] = [valor_de_una_variable]"
   ]
  },
  {
   "cell_type": "code",
   "execution_count": 30,
   "id": "9157d215",
   "metadata": {},
   "outputs": [
    {
     "ename": "NameError",
     "evalue": "name 'x' is not defined",
     "output_type": "error",
     "traceback": [
      "\u001b[1;31m---------------------------------------------------------------------------\u001b[0m",
      "\u001b[1;31mNameError\u001b[0m                                 Traceback (most recent call last)",
      "\u001b[1;32mC:\\Users\\SALACO~1\\AppData\\Local\\Temp/ipykernel_5188/4097111698.py\u001b[0m in \u001b[0;36m<module>\u001b[1;34m\u001b[0m\n\u001b[1;32m----> 1\u001b[1;33m \u001b[0mx\u001b[0m\u001b[1;33m+\u001b[0m\u001b[1;36m2\u001b[0m\u001b[1;33m\u001b[0m\u001b[1;33m\u001b[0m\u001b[0m\n\u001b[0m",
      "\u001b[1;31mNameError\u001b[0m: name 'x' is not defined"
     ]
    }
   ],
   "source": [
    "x+2"
   ]
  },
  {
   "cell_type": "code",
   "execution_count": 31,
   "id": "74e84a0d",
   "metadata": {},
   "outputs": [],
   "source": [
    "x=20"
   ]
  },
  {
   "cell_type": "code",
   "execution_count": 32,
   "id": "d4eeee26",
   "metadata": {},
   "outputs": [
    {
     "data": {
      "text/plain": [
       "22"
      ]
     },
     "execution_count": 32,
     "metadata": {},
     "output_type": "execute_result"
    }
   ],
   "source": [
    "x+2"
   ]
  },
  {
   "cell_type": "code",
   "execution_count": null,
   "id": "63a4a9c9",
   "metadata": {},
   "outputs": [],
   "source": []
  }
 ],
 "metadata": {
  "kernelspec": {
   "display_name": "Python 3 (ipykernel)",
   "language": "python",
   "name": "python3"
  },
  "language_info": {
   "codemirror_mode": {
    "name": "ipython",
    "version": 3
   },
   "file_extension": ".py",
   "mimetype": "text/x-python",
   "name": "python",
   "nbconvert_exporter": "python",
   "pygments_lexer": "ipython3",
   "version": "3.9.7"
  }
 },
 "nbformat": 4,
 "nbformat_minor": 5
}
